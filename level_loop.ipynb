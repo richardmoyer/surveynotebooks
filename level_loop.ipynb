{
 "cells": [
  {
   "cell_type": "code",
   "execution_count": 43,
   "metadata": {},
   "outputs": [
    {
     "data": {
      "text/plain": [
       "'%.3f'"
      ]
     },
     "execution_count": 43,
     "metadata": {},
     "output_type": "execute_result"
    }
   ],
   "source": [
    "import numpy as np\n",
    "import pandas as pd\n",
    "%precision 3"
   ]
  },
  {
   "cell_type": "markdown",
   "metadata": {},
   "source": [
    "#### Input data"
   ]
  },
  {
   "cell_type": "code",
   "execution_count": 44,
   "metadata": {},
   "outputs": [],
   "source": [
    "start_elev = 234.117\n",
    "back_sights = [1.403, 1.381, 1.414, 1.707, 1.200, 1.779, 1.169, 1.236, 1.852, 1.366, 1.639, 1.424, 0.791, 1.232, 2.033, 1.347, 1.959, 0.078, 1.903, 0.468, 1.449, 0.962, 0.369, 1.537, 1.447, 1.177, 1.343, 1.062]\n",
    "fore_sights = [1.557, 1.338, 1.359, 1.367, 1.277, 1.625, 1.277, 1.318, 1.360, 1.197, 1.359, 0.890, 1.377, 1.397, 1.238, 1.165, 0.152, 2.819, 0.314, 2.054, 0.978, 0.767, 0.921, 1.752, 1.592, 1.511, 1.536, 1.226]\n",
    "height_of_instrument = [] \n",
    "elev = [start_elev] "
   ]
  },
  {
   "cell_type": "markdown",
   "metadata": {},
   "source": [
    "##### Level loop"
   ]
  },
  {
   "cell_type": "code",
   "execution_count": 45,
   "metadata": {
    "collapsed": true
   },
   "outputs": [],
   "source": [
    "height_of_instrument\n",
    "elev\n",
    "list_length = len(back_sights)\n",
    "for i in range(list_length):\n",
    "        new_height_of_instrument = elev[i] + back_sights[i]\n",
    "        height_of_instrument.append(new_height_of_instrument)\n",
    "        new_elev = height_of_instrument[i] - fore_sights[i]\n",
    "        elev.append(new_elev)\n",
    "        "
   ]
  },
  {
   "cell_type": "code",
   "execution_count": 46,
   "metadata": {
    "collapsed": true
   },
   "outputs": [],
   "source": [
    "back_sights.append(0.000)\n",
    "height_of_instrument.append(0.000)\n",
    "fore_sights.insert(0, 0.00)\n"
   ]
  },
  {
   "cell_type": "markdown",
   "metadata": {},
   "source": [
    "#### Stations"
   ]
  },
  {
   "cell_type": "code",
   "execution_count": 51,
   "metadata": {},
   "outputs": [],
   "source": [
    "stns = ['BM 1', 'CP23', 'TP1', 'TP2', 'TP3', 'TP4', 'TP5', 'TP6', 'TP7', 'TP8', 'TP9', 'TP10', 'BM13', 'TP11', 'TP12', 'TP13', 'TP14', 'CP19', 'TP15', 'FH1', 'TP16', 'FH2', 'FH3', 'TP17', 'TP18', 'TP19', 'TP20', 'TP21', 'BM1']"
   ]
  },
  {
   "cell_type": "code",
   "execution_count": 52,
   "metadata": {},
   "outputs": [
    {
     "data": {
      "text/html": [
       "<div>\n",
       "<style scoped>\n",
       "    .dataframe tbody tr th:only-of-type {\n",
       "        vertical-align: middle;\n",
       "    }\n",
       "\n",
       "    .dataframe tbody tr th {\n",
       "        vertical-align: top;\n",
       "    }\n",
       "\n",
       "    .dataframe thead th {\n",
       "        text-align: right;\n",
       "    }\n",
       "</style>\n",
       "<table border=\"1\" class=\"dataframe\">\n",
       "  <thead>\n",
       "    <tr style=\"text-align: right;\">\n",
       "      <th></th>\n",
       "      <th>STN</th>\n",
       "      <th>BS</th>\n",
       "      <th>HI</th>\n",
       "      <th>FS</th>\n",
       "      <th>ELEV</th>\n",
       "    </tr>\n",
       "  </thead>\n",
       "  <tbody>\n",
       "    <tr>\n",
       "      <th>0</th>\n",
       "      <td>BM 1</td>\n",
       "      <td>1.403</td>\n",
       "      <td>235.520</td>\n",
       "      <td>0.000</td>\n",
       "      <td>234.117</td>\n",
       "    </tr>\n",
       "    <tr>\n",
       "      <th>1</th>\n",
       "      <td>CP23</td>\n",
       "      <td>1.381</td>\n",
       "      <td>235.344</td>\n",
       "      <td>1.557</td>\n",
       "      <td>233.963</td>\n",
       "    </tr>\n",
       "    <tr>\n",
       "      <th>2</th>\n",
       "      <td>TP1</td>\n",
       "      <td>1.414</td>\n",
       "      <td>235.420</td>\n",
       "      <td>1.338</td>\n",
       "      <td>234.006</td>\n",
       "    </tr>\n",
       "    <tr>\n",
       "      <th>3</th>\n",
       "      <td>TP2</td>\n",
       "      <td>1.707</td>\n",
       "      <td>235.768</td>\n",
       "      <td>1.359</td>\n",
       "      <td>234.061</td>\n",
       "    </tr>\n",
       "    <tr>\n",
       "      <th>4</th>\n",
       "      <td>TP3</td>\n",
       "      <td>1.200</td>\n",
       "      <td>235.601</td>\n",
       "      <td>1.367</td>\n",
       "      <td>234.401</td>\n",
       "    </tr>\n",
       "    <tr>\n",
       "      <th>5</th>\n",
       "      <td>TP4</td>\n",
       "      <td>1.779</td>\n",
       "      <td>236.103</td>\n",
       "      <td>1.277</td>\n",
       "      <td>234.324</td>\n",
       "    </tr>\n",
       "    <tr>\n",
       "      <th>6</th>\n",
       "      <td>TP5</td>\n",
       "      <td>1.169</td>\n",
       "      <td>235.647</td>\n",
       "      <td>1.625</td>\n",
       "      <td>234.478</td>\n",
       "    </tr>\n",
       "    <tr>\n",
       "      <th>7</th>\n",
       "      <td>TP6</td>\n",
       "      <td>1.236</td>\n",
       "      <td>235.606</td>\n",
       "      <td>1.277</td>\n",
       "      <td>234.370</td>\n",
       "    </tr>\n",
       "    <tr>\n",
       "      <th>8</th>\n",
       "      <td>TP7</td>\n",
       "      <td>1.852</td>\n",
       "      <td>236.140</td>\n",
       "      <td>1.318</td>\n",
       "      <td>234.288</td>\n",
       "    </tr>\n",
       "    <tr>\n",
       "      <th>9</th>\n",
       "      <td>TP8</td>\n",
       "      <td>1.366</td>\n",
       "      <td>236.146</td>\n",
       "      <td>1.360</td>\n",
       "      <td>234.780</td>\n",
       "    </tr>\n",
       "    <tr>\n",
       "      <th>10</th>\n",
       "      <td>TP9</td>\n",
       "      <td>1.639</td>\n",
       "      <td>236.588</td>\n",
       "      <td>1.197</td>\n",
       "      <td>234.949</td>\n",
       "    </tr>\n",
       "    <tr>\n",
       "      <th>11</th>\n",
       "      <td>TP10</td>\n",
       "      <td>1.424</td>\n",
       "      <td>236.653</td>\n",
       "      <td>1.359</td>\n",
       "      <td>235.229</td>\n",
       "    </tr>\n",
       "    <tr>\n",
       "      <th>12</th>\n",
       "      <td>BM13</td>\n",
       "      <td>0.791</td>\n",
       "      <td>236.554</td>\n",
       "      <td>0.890</td>\n",
       "      <td>235.763</td>\n",
       "    </tr>\n",
       "    <tr>\n",
       "      <th>13</th>\n",
       "      <td>TP11</td>\n",
       "      <td>1.232</td>\n",
       "      <td>236.409</td>\n",
       "      <td>1.377</td>\n",
       "      <td>235.177</td>\n",
       "    </tr>\n",
       "    <tr>\n",
       "      <th>14</th>\n",
       "      <td>TP12</td>\n",
       "      <td>2.033</td>\n",
       "      <td>237.045</td>\n",
       "      <td>1.397</td>\n",
       "      <td>235.012</td>\n",
       "    </tr>\n",
       "    <tr>\n",
       "      <th>15</th>\n",
       "      <td>TP13</td>\n",
       "      <td>1.347</td>\n",
       "      <td>237.154</td>\n",
       "      <td>1.238</td>\n",
       "      <td>235.807</td>\n",
       "    </tr>\n",
       "    <tr>\n",
       "      <th>16</th>\n",
       "      <td>TP14</td>\n",
       "      <td>1.959</td>\n",
       "      <td>237.948</td>\n",
       "      <td>1.165</td>\n",
       "      <td>235.989</td>\n",
       "    </tr>\n",
       "    <tr>\n",
       "      <th>17</th>\n",
       "      <td>CP19</td>\n",
       "      <td>0.078</td>\n",
       "      <td>237.874</td>\n",
       "      <td>0.152</td>\n",
       "      <td>237.796</td>\n",
       "    </tr>\n",
       "    <tr>\n",
       "      <th>18</th>\n",
       "      <td>TP15</td>\n",
       "      <td>1.903</td>\n",
       "      <td>236.958</td>\n",
       "      <td>2.819</td>\n",
       "      <td>235.055</td>\n",
       "    </tr>\n",
       "    <tr>\n",
       "      <th>19</th>\n",
       "      <td>FH1</td>\n",
       "      <td>0.468</td>\n",
       "      <td>237.112</td>\n",
       "      <td>0.314</td>\n",
       "      <td>236.644</td>\n",
       "    </tr>\n",
       "    <tr>\n",
       "      <th>20</th>\n",
       "      <td>TP16</td>\n",
       "      <td>1.449</td>\n",
       "      <td>236.507</td>\n",
       "      <td>2.054</td>\n",
       "      <td>235.058</td>\n",
       "    </tr>\n",
       "    <tr>\n",
       "      <th>21</th>\n",
       "      <td>FH2</td>\n",
       "      <td>0.962</td>\n",
       "      <td>236.491</td>\n",
       "      <td>0.978</td>\n",
       "      <td>235.529</td>\n",
       "    </tr>\n",
       "    <tr>\n",
       "      <th>22</th>\n",
       "      <td>FH3</td>\n",
       "      <td>0.369</td>\n",
       "      <td>236.093</td>\n",
       "      <td>0.767</td>\n",
       "      <td>235.724</td>\n",
       "    </tr>\n",
       "    <tr>\n",
       "      <th>23</th>\n",
       "      <td>TP17</td>\n",
       "      <td>1.537</td>\n",
       "      <td>236.709</td>\n",
       "      <td>0.921</td>\n",
       "      <td>235.172</td>\n",
       "    </tr>\n",
       "    <tr>\n",
       "      <th>24</th>\n",
       "      <td>TP18</td>\n",
       "      <td>1.447</td>\n",
       "      <td>236.404</td>\n",
       "      <td>1.752</td>\n",
       "      <td>234.957</td>\n",
       "    </tr>\n",
       "    <tr>\n",
       "      <th>25</th>\n",
       "      <td>TP19</td>\n",
       "      <td>1.177</td>\n",
       "      <td>235.989</td>\n",
       "      <td>1.592</td>\n",
       "      <td>234.812</td>\n",
       "    </tr>\n",
       "    <tr>\n",
       "      <th>26</th>\n",
       "      <td>TP20</td>\n",
       "      <td>1.343</td>\n",
       "      <td>235.821</td>\n",
       "      <td>1.511</td>\n",
       "      <td>234.478</td>\n",
       "    </tr>\n",
       "    <tr>\n",
       "      <th>27</th>\n",
       "      <td>TP21</td>\n",
       "      <td>1.062</td>\n",
       "      <td>235.347</td>\n",
       "      <td>1.536</td>\n",
       "      <td>234.285</td>\n",
       "    </tr>\n",
       "    <tr>\n",
       "      <th>28</th>\n",
       "      <td>BM1</td>\n",
       "      <td>0.000</td>\n",
       "      <td>0.000</td>\n",
       "      <td>1.226</td>\n",
       "      <td>234.121</td>\n",
       "    </tr>\n",
       "  </tbody>\n",
       "</table>\n",
       "</div>"
      ],
      "text/plain": [
       "     STN     BS       HI     FS     ELEV\n",
       "0   BM 1  1.403  235.520  0.000  234.117\n",
       "1   CP23  1.381  235.344  1.557  233.963\n",
       "2    TP1  1.414  235.420  1.338  234.006\n",
       "3    TP2  1.707  235.768  1.359  234.061\n",
       "4    TP3  1.200  235.601  1.367  234.401\n",
       "5    TP4  1.779  236.103  1.277  234.324\n",
       "6    TP5  1.169  235.647  1.625  234.478\n",
       "7    TP6  1.236  235.606  1.277  234.370\n",
       "8    TP7  1.852  236.140  1.318  234.288\n",
       "9    TP8  1.366  236.146  1.360  234.780\n",
       "10   TP9  1.639  236.588  1.197  234.949\n",
       "11  TP10  1.424  236.653  1.359  235.229\n",
       "12  BM13  0.791  236.554  0.890  235.763\n",
       "13  TP11  1.232  236.409  1.377  235.177\n",
       "14  TP12  2.033  237.045  1.397  235.012\n",
       "15  TP13  1.347  237.154  1.238  235.807\n",
       "16  TP14  1.959  237.948  1.165  235.989\n",
       "17  CP19  0.078  237.874  0.152  237.796\n",
       "18  TP15  1.903  236.958  2.819  235.055\n",
       "19   FH1  0.468  237.112  0.314  236.644\n",
       "20  TP16  1.449  236.507  2.054  235.058\n",
       "21   FH2  0.962  236.491  0.978  235.529\n",
       "22   FH3  0.369  236.093  0.767  235.724\n",
       "23  TP17  1.537  236.709  0.921  235.172\n",
       "24  TP18  1.447  236.404  1.752  234.957\n",
       "25  TP19  1.177  235.989  1.592  234.812\n",
       "26  TP20  1.343  235.821  1.511  234.478\n",
       "27  TP21  1.062  235.347  1.536  234.285\n",
       "28   BM1  0.000    0.000  1.226  234.121"
      ]
     },
     "execution_count": 52,
     "metadata": {},
     "output_type": "execute_result"
    }
   ],
   "source": [
    "df1 = pd.DataFrame(stns, columns = [\"STN\"])\n",
    "df2 = pd.DataFrame(back_sights, columns = [\"BS\"])\n",
    "df3 = pd.DataFrame(height_of_instrument, columns = [\"HI\"])\n",
    "df4 = pd.DataFrame(np.around(fore_sights, decimals = 3), columns = [\"FS\"])\n",
    "df5 = pd.DataFrame( np.around(elev, decimals = 3), columns = [\"ELEV\"])\n",
    "\n",
    "\n",
    "df = pd.concat([df1, df2, df3, df4, df5], join =\"outer\", axis = 1)\n",
    "df"
   ]
  },
  {
   "cell_type": "markdown",
   "metadata": {
    "collapsed": true
   },
   "source": [
    "####  $\\sum Backsights - \\sum Foresights$"
   ]
  },
  {
   "cell_type": "code",
   "execution_count": 53,
   "metadata": {},
   "outputs": [
    {
     "data": {
      "text/plain": [
       "0.004"
      ]
     },
     "execution_count": 53,
     "metadata": {},
     "output_type": "execute_result"
    }
   ],
   "source": [
    "sumbsfs = sum(back_sights) - sum(fore_sights)\n",
    "sumbsfs"
   ]
  },
  {
   "cell_type": "markdown",
   "metadata": {
    "collapsed": true
   },
   "source": [
    "#### Circuit Error"
   ]
  },
  {
   "cell_type": "code",
   "execution_count": 54,
   "metadata": {},
   "outputs": [
    {
     "data": {
      "text/plain": [
       "0.004"
      ]
     },
     "execution_count": 54,
     "metadata": {},
     "output_type": "execute_result"
    }
   ],
   "source": [
    "circuit_error = elev[-1] - start_elev\n",
    "circuit_error"
   ]
  },
  {
   "cell_type": "code",
   "execution_count": null,
   "metadata": {
    "collapsed": true
   },
   "outputs": [],
   "source": []
  },
  {
   "cell_type": "code",
   "execution_count": null,
   "metadata": {
    "collapsed": true
   },
   "outputs": [],
   "source": []
  },
  {
   "cell_type": "code",
   "execution_count": null,
   "metadata": {
    "collapsed": true
   },
   "outputs": [],
   "source": []
  },
  {
   "cell_type": "code",
   "execution_count": null,
   "metadata": {
    "collapsed": true
   },
   "outputs": [],
   "source": []
  },
  {
   "cell_type": "code",
   "execution_count": null,
   "metadata": {
    "collapsed": true
   },
   "outputs": [],
   "source": []
  },
  {
   "cell_type": "code",
   "execution_count": null,
   "metadata": {
    "collapsed": true
   },
   "outputs": [],
   "source": []
  },
  {
   "cell_type": "code",
   "execution_count": null,
   "metadata": {
    "collapsed": true
   },
   "outputs": [],
   "source": []
  }
 ],
 "metadata": {
  "kernelspec": {
   "display_name": "Python 3",
   "language": "python",
   "name": "python3"
  },
  "language_info": {
   "codemirror_mode": {
    "name": "ipython",
    "version": 3
   },
   "file_extension": ".py",
   "mimetype": "text/x-python",
   "name": "python",
   "nbconvert_exporter": "python",
   "pygments_lexer": "ipython3",
   "version": "3.6.1"
  }
 },
 "nbformat": 4,
 "nbformat_minor": 2
}
