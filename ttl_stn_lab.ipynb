{
 "cells": [
  {
   "cell_type": "code",
   "execution_count": 122,
   "metadata": {
    "collapsed": true
   },
   "outputs": [],
   "source": [
    "import numpy as np\n",
    "import pandas as pd"
   ]
  },
  {
   "cell_type": "markdown",
   "metadata": {},
   "source": [
    "# Total Station Lab"
   ]
  },
  {
   "cell_type": "code",
   "execution_count": 123,
   "metadata": {},
   "outputs": [
    {
     "data": {
      "text/plain": [
       "(array([ 284.39 ,  206.405,  210.402,  211.302,   96.961,  134.508]),\n",
       " array([  90.        ,  106.89027778,  298.79222222,  292.2838889 ,\n",
       "         277.58694444,  182.52027778]))"
      ]
     },
     "execution_count": 123,
     "metadata": {},
     "output_type": "execute_result"
    }
   ],
   "source": [
    "dist = np.array([284.390, 206.405, 210.402, 211.302, 96.961, 134.508])\n",
    "brg = np.array([90.000, 106.89027778, 298.79222222, 292.2838889, 277.58694444, 182.52027778])\n",
    "dist,brg"
   ]
  },
  {
   "cell_type": "markdown",
   "metadata": {},
   "source": [
    "#### Latitude and Departure"
   ]
  },
  {
   "cell_type": "code",
   "execution_count": 124,
   "metadata": {},
   "outputs": [
    {
     "data": {
      "text/plain": [
       "(array([   0.   ,  -59.969,  101.337,   80.125,   12.802, -134.378]),\n",
       " array([ 284.39 ,  197.501, -184.39 , -195.521,  -96.112,   -5.915]))"
      ]
     },
     "execution_count": 124,
     "metadata": {},
     "output_type": "execute_result"
    }
   ],
   "source": [
    "lat =  dist * np.cos(np.radians(brg))\n",
    "dep = dist * np.sin(np.radians(brg))\n",
    "np.around(lat, decimals = 3), np.around(dep, decimals = 3)"
   ]
  },
  {
   "cell_type": "markdown",
   "metadata": {},
   "source": [
    "#### Sum Dist, LAT & DEP"
   ]
  },
  {
   "cell_type": "code",
   "execution_count": 125,
   "metadata": {},
   "outputs": [
    {
     "data": {
      "text/plain": [
       "(1143.9680000000001, -0.083179146977641949, -0.047236386849489165)"
      ]
     },
     "execution_count": 125,
     "metadata": {},
     "output_type": "execute_result"
    }
   ],
   "source": [
    "perimeter = np.sum(dist)\n",
    "sum_lat = np.sum(lat)\n",
    "sum_dep = np.sum(dep)\n",
    "np.around(perimeter, decimals = 3), sum_lat, sum_dep"
   ]
  },
  {
   "cell_type": "markdown",
   "metadata": {},
   "source": [
    "#### Adjusted LAT"
   ]
  },
  {
   "cell_type": "code",
   "execution_count": 126,
   "metadata": {},
   "outputs": [
    {
     "data": {
      "text/plain": [
       "0      0.021\n",
       "1    -59.954\n",
       "2    101.352\n",
       "3     80.140\n",
       "4     12.809\n",
       "5   -134.368\n",
       "dtype: float64"
      ]
     },
     "execution_count": 126,
     "metadata": {},
     "output_type": "execute_result"
    }
   ],
   "source": [
    "for di in dist:\n",
    "    adj_lat = sum_lat / sum_dist  * dist\n",
    "    adj_lat = lat - adj_lat\n",
    "    \n",
    "adj_lat = pd.Series(adj_lat)\n",
    "np.around(adj_lat, decimals = 3)"
   ]
  },
  {
   "cell_type": "markdown",
   "metadata": {
    "collapsed": true
   },
   "source": [
    "#### Adjusted DEP"
   ]
  },
  {
   "cell_type": "code",
   "execution_count": 127,
   "metadata": {},
   "outputs": [
    {
     "data": {
      "text/plain": [
       "0    284.402\n",
       "1    197.510\n",
       "2   -184.382\n",
       "3   -195.512\n",
       "4    -96.108\n",
       "5     -5.909\n",
       "dtype: float64"
      ]
     },
     "execution_count": 127,
     "metadata": {},
     "output_type": "execute_result"
    }
   ],
   "source": [
    "for di in dist:\n",
    "    adj_dep = sum_dep / sum_dist  * dist\n",
    "    adj_dep = dep - adj_dep\n",
    "    \n",
    "adj_dep = pd.Series(adj_dep)\n",
    "np.around(adj_dep, decimals = 3)"
   ]
  },
  {
   "cell_type": "markdown",
   "metadata": {
    "collapsed": true
   },
   "source": [
    "#### Adjusted Distance"
   ]
  },
  {
   "cell_type": "code",
   "execution_count": 128,
   "metadata": {},
   "outputs": [
    {
     "data": {
      "text/plain": [
       "0    284.402\n",
       "1    206.409\n",
       "2    210.402\n",
       "3    211.300\n",
       "4     96.958\n",
       "5    134.498\n",
       "dtype: float64"
      ]
     },
     "execution_count": 128,
     "metadata": {},
     "output_type": "execute_result"
    }
   ],
   "source": [
    "adj_dist = np.sqrt(np.square(adj_lat) + np.square(adj_dep))\n",
    "np.around(adj_dist, decimals = 3)"
   ]
  },
  {
   "cell_type": "markdown",
   "metadata": {},
   "source": [
    "#### Adjusted Bearing"
   ]
  },
  {
   "cell_type": "code",
   "execution_count": 153,
   "metadata": {},
   "outputs": [
    {
     "data": {
      "text/plain": [
       "0     89.995834\n",
       "1    106.885604\n",
       "2    298.797013\n",
       "3    292.288641\n",
       "4    277.591387\n",
       "5    182.518097\n",
       "dtype: float64"
      ]
     },
     "execution_count": 153,
     "metadata": {},
     "output_type": "execute_result"
    }
   ],
   "source": [
    "x = np.degrees(np.arctan(adj_dep / adj_lat))\n",
    "y = np.around(x - brg)\n",
    "y = x - y\n",
    "y"
   ]
  },
  {
   "cell_type": "markdown",
   "metadata": {
    "collapsed": true
   },
   "source": [
    "#### Dataframe"
   ]
  },
  {
   "cell_type": "code",
   "execution_count": 154,
   "metadata": {
    "collapsed": true
   },
   "outputs": [],
   "source": [
    "dist = pd.Series(dist)\n",
    "brg = pd.Series(brg)\n",
    "lat = pd.Series(lat)\n",
    "dep = pd.Series(dep)\n",
    "adj_lat = pd.Series(adj_lat)\n",
    "adj_dep = pd.Series(adj_dep)\n"
   ]
  },
  {
   "cell_type": "code",
   "execution_count": 157,
   "metadata": {
    "collapsed": true
   },
   "outputs": [
    {
     "data": {
      "text/html": [
       "<div>\n",
       "<style>\n",
       "    .dataframe thead tr:only-child th {\n",
       "        text-align: right;\n",
       "    }\n",
       "\n",
       "    .dataframe thead th {\n",
       "        text-align: left;\n",
       "    }\n",
       "\n",
       "    .dataframe tbody tr th {\n",
       "        vertical-align: top;\n",
       "    }\n",
       "</style>\n",
       "<table border=\"1\" class=\"dataframe\">\n",
       "  <thead>\n",
       "    <tr style=\"text-align: right;\">\n",
       "      <th></th>\n",
       "      <th>Distance</th>\n",
       "      <th>Bearing</th>\n",
       "      <th>Latitude</th>\n",
       "      <th>Departure</th>\n",
       "      <th>Adj. Lat.</th>\n",
       "      <th>Adj. Dep.</th>\n",
       "      <th>Adj. Dist.</th>\n",
       "      <th>Adj. Brg</th>\n",
       "    </tr>\n",
       "  </thead>\n",
       "  <tbody>\n",
       "    <tr>\n",
       "      <th>0</th>\n",
       "      <td>284.390</td>\n",
       "      <td>90.000000</td>\n",
       "      <td>0.000</td>\n",
       "      <td>284.390</td>\n",
       "      <td>0.021</td>\n",
       "      <td>284.402</td>\n",
       "      <td>284.402</td>\n",
       "      <td>89.995834</td>\n",
       "    </tr>\n",
       "    <tr>\n",
       "      <th>1</th>\n",
       "      <td>206.405</td>\n",
       "      <td>106.890278</td>\n",
       "      <td>-59.969</td>\n",
       "      <td>197.501</td>\n",
       "      <td>-59.954</td>\n",
       "      <td>197.510</td>\n",
       "      <td>206.409</td>\n",
       "      <td>106.885604</td>\n",
       "    </tr>\n",
       "    <tr>\n",
       "      <th>2</th>\n",
       "      <td>210.402</td>\n",
       "      <td>298.792222</td>\n",
       "      <td>101.337</td>\n",
       "      <td>-184.390</td>\n",
       "      <td>101.352</td>\n",
       "      <td>-184.382</td>\n",
       "      <td>210.402</td>\n",
       "      <td>298.797013</td>\n",
       "    </tr>\n",
       "    <tr>\n",
       "      <th>3</th>\n",
       "      <td>211.302</td>\n",
       "      <td>292.283889</td>\n",
       "      <td>80.125</td>\n",
       "      <td>-195.521</td>\n",
       "      <td>80.140</td>\n",
       "      <td>-195.512</td>\n",
       "      <td>211.300</td>\n",
       "      <td>292.288641</td>\n",
       "    </tr>\n",
       "    <tr>\n",
       "      <th>4</th>\n",
       "      <td>96.961</td>\n",
       "      <td>277.586944</td>\n",
       "      <td>12.802</td>\n",
       "      <td>-96.112</td>\n",
       "      <td>12.809</td>\n",
       "      <td>-96.108</td>\n",
       "      <td>96.958</td>\n",
       "      <td>277.591387</td>\n",
       "    </tr>\n",
       "    <tr>\n",
       "      <th>5</th>\n",
       "      <td>134.508</td>\n",
       "      <td>182.520278</td>\n",
       "      <td>-134.378</td>\n",
       "      <td>-5.915</td>\n",
       "      <td>-134.368</td>\n",
       "      <td>-5.909</td>\n",
       "      <td>134.498</td>\n",
       "      <td>182.518097</td>\n",
       "    </tr>\n",
       "  </tbody>\n",
       "</table>\n",
       "</div>"
      ],
      "text/plain": [
       "   Distance     Bearing  Latitude  Departure  Adj. Lat.  Adj. Dep.  \\\n",
       "0   284.390   90.000000     0.000    284.390      0.021    284.402   \n",
       "1   206.405  106.890278   -59.969    197.501    -59.954    197.510   \n",
       "2   210.402  298.792222   101.337   -184.390    101.352   -184.382   \n",
       "3   211.302  292.283889    80.125   -195.521     80.140   -195.512   \n",
       "4    96.961  277.586944    12.802    -96.112     12.809    -96.108   \n",
       "5   134.508  182.520278  -134.378     -5.915   -134.368     -5.909   \n",
       "\n",
       "   Adj. Dist.    Adj. Brg  \n",
       "0     284.402   89.995834  \n",
       "1     206.409  106.885604  \n",
       "2     210.402  298.797013  \n",
       "3     211.300  292.288641  \n",
       "4      96.958  277.591387  \n",
       "5     134.498  182.518097  "
      ]
     },
     "execution_count": 157,
     "metadata": {},
     "output_type": "execute_result"
    }
   ],
   "source": [
    "df1 = pd.DataFrame(dist, columns = [\"Distance\"])\n",
    "df2 = pd.DataFrame(brg, columns = [\"Bearing\"])\n",
    "df3 = pd.DataFrame(np.around(lat, decimals = 3), columns = [\"Latitude\"])\n",
    "df4 = pd.DataFrame( np.around(dep, decimals = 3), columns = [\"Departure\"])\n",
    "df5 = pd.DataFrame(np.around(adj_lat, decimals = 3), columns = [\"Adj. Lat.\"])\n",
    "df6 = pd.DataFrame(np.around(adj_dep, decimals = 3), columns = [\"Adj. Dep.\"])\n",
    "df7 = pd.DataFrame(np.around(adj_dist, decimals = 3), columns = [\"Adj. Dist.\"])\n",
    "df8 = pd.DataFrame(np.around(y, decimals = 6), columns = [\"Adj. Brg\"])\n",
    "\n",
    "df = pd.concat([df1, df2, df3, df4, df5, df6, df7, df8], join =\"outer\", axis = 1)\n",
    "df"
   ]
  },
  {
   "cell_type": "code",
   "execution_count": null,
   "metadata": {
    "collapsed": true
   },
   "outputs": [],
   "source": []
  },
  {
   "cell_type": "code",
   "execution_count": null,
   "metadata": {
    "collapsed": true
   },
   "outputs": [],
   "source": []
  },
  {
   "cell_type": "code",
   "execution_count": null,
   "metadata": {
    "collapsed": true
   },
   "outputs": [],
   "source": []
  },
  {
   "cell_type": "code",
   "execution_count": null,
   "metadata": {
    "collapsed": true
   },
   "outputs": [],
   "source": []
  },
  {
   "cell_type": "code",
   "execution_count": null,
   "metadata": {
    "collapsed": true
   },
   "outputs": [],
   "source": []
  },
  {
   "cell_type": "code",
   "execution_count": null,
   "metadata": {
    "collapsed": true
   },
   "outputs": [],
   "source": []
  },
  {
   "cell_type": "code",
   "execution_count": null,
   "metadata": {
    "collapsed": true
   },
   "outputs": [],
   "source": []
  },
  {
   "cell_type": "code",
   "execution_count": null,
   "metadata": {
    "collapsed": true
   },
   "outputs": [],
   "source": []
  },
  {
   "cell_type": "code",
   "execution_count": null,
   "metadata": {
    "collapsed": true
   },
   "outputs": [],
   "source": []
  }
 ],
 "metadata": {
  "kernelspec": {
   "display_name": "Python 3",
   "language": "python",
   "name": "python3"
  },
  "language_info": {
   "codemirror_mode": {
    "name": "ipython",
    "version": 3
   },
   "file_extension": ".py",
   "mimetype": "text/x-python",
   "name": "python",
   "nbconvert_exporter": "python",
   "pygments_lexer": "ipython3",
   "version": "3.6.2"
  }
 },
 "nbformat": 4,
 "nbformat_minor": 2
}
